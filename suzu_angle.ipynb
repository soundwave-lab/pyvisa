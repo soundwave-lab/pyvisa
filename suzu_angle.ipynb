{
 "cells": [
  {
   "cell_type": "code",
   "execution_count": null,
   "metadata": {},
   "outputs": [],
   "source": [
    "\n",
    "import time\n",
    "import numpy as np\n",
    "import pandas as pd\n",
    "import matplotlib.pyplot as plt\n",
    "import pyvisa\n",
    "import device"
   ]
  },
  {
   "cell_type": "code",
   "execution_count": null,
   "metadata": {},
   "outputs": [],
   "source": [
    "rm = pyvisa.ResourceManager()\n",
    "\n",
    "visa_list = rm.list_resources()\n",
    "visa_list"
   ]
  },
  {
   "cell_type": "code",
   "execution_count": null,
   "metadata": {},
   "outputs": [],
   "source": [
    "stage = Stage.Stage(visa_list[0])#三軸の接続先設定\n",
    "scope = Scope.Scope(visa_list[1])#オシロスコープの接続先指定\n",
    "# scope = rm.open_resource(visa_list[0])"
   ]
  },
  {
   "cell_type": "code",
   "execution_count": null,
   "metadata": {},
   "outputs": [],
   "source": [
    "#初期条件\n",
    "scope.timeout = 30000 # timeout の設定# 30 秒\n",
    "scope.average(10000) #averaging回数指定\n",
    "df = pd.DataFrame()"
   ]
  },
  {
   "cell_type": "code",
   "execution_count": null,
   "metadata": {},
   "outputs": [],
   "source": [
    "for angle in range(0,360,10): #10000 50°\n",
    "    stage.move_plus(4,10*200) #回転させる角度を記入（200パルスで1°回転）\n",
    "    time.sleep(135)#止める時間（アベレージ時間などを考慮）\n",
    "    [time, Volts]=scope.fetch(1)\n",
    "    df[angle] = Volts\n",
    "    # plt.plot(Volts) # データ\n",
    "\n",
    "df[\"time\"] = time"
   ]
  },
  {
   "cell_type": "code",
   "execution_count": null,
   "metadata": {},
   "outputs": [],
   "source": [
    "df.to_csv(\"angle.csv\")"
   ]
  },
  {
   "cell_type": "code",
   "execution_count": null,
   "metadata": {},
   "outputs": [],
   "source": [
    "plt.plot(df)"
   ]
  }
 ],
 "metadata": {
  "kernelspec": {
   "display_name": "Python 3.10.4 64-bit",
   "language": "python",
   "name": "python3"
  },
  "language_info": {
   "codemirror_mode": {
    "name": "ipython",
    "version": 3
   },
   "file_extension": ".py",
   "mimetype": "text/x-python",
   "name": "python",
   "nbconvert_exporter": "python",
   "pygments_lexer": "ipython3",
   "version": "3.10.4"
  },
  "vscode": {
   "interpreter": {
    "hash": "cbe8781eafc332e4346511ffb57e640714d8412889118e3660a76ad5ee6826eb"
   }
  }
 },
 "nbformat": 4,
 "nbformat_minor": 4
}
