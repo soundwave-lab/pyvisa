{
 "cells": [
  {
   "cell_type": "code",
   "execution_count": null,
   "metadata": {},
   "outputs": [],
   "source": [
    "import pyvisa\n",
    "import time\n",
    "import numpy as np\n",
    "import pandas as pd\n",
    "import matplotlib.pyplot as plt\n",
    "import device\n",
    "import func\n"
   ]
  },
  {
   "cell_type": "code",
   "execution_count": null,
   "metadata": {},
   "outputs": [],
   "source": [
    "rm = pyvisa.ResourceManager()\n",
    "visa_list = rm.list_resources()\n",
    "print(visa_list)"
   ]
  },
  {
   "cell_type": "code",
   "execution_count": null,
   "metadata": {},
   "outputs": [],
   "source": [
    "# 機器接続\n",
    "stage = device.StageController(visa_list[2])#三軸の接続先設定\n",
    "scope = device.Oscilloscope(visa_list[1])#オシロスコープの接続先指定\n",
    "\n"
   ]
  },
  {
   "cell_type": "code",
   "execution_count": null,
   "metadata": {},
   "outputs": [],
   "source": [
    "# stage.move_plus(2,2000)#2500パルス１㎝"
   ]
  },
  {
   "cell_type": "code",
   "execution_count": null,
   "metadata": {},
   "outputs": [],
   "source": [
    "# test\n",
    "[times, volts]=scope.fetch(1)\n",
    "[times, volts] = func.get_cutting_wave(times, volts, 0.05)\n",
    "\n",
    "plt.plot(times,volts);\n",
    "\n",
    "len(volts)\n"
   ]
  },
  {
   "cell_type": "code",
   "execution_count": null,
   "metadata": {},
   "outputs": [],
   "source": [
    "# f = 2.0e6   # 周波数 Hz\n",
    "# # dt=8e-9\n",
    "\n",
    "# sf = 10000*f\n",
    "# # sf = 44100 #サンプリング周波数\n",
    "\n",
    "# t = np.arange(0, 1/f, 1/sf) #サンプリング点の生成\n",
    "# # print(1/fs,t)\n",
    "# y = np.sin(2*np.pi*f*t) # 正弦波の生成\n",
    "\n",
    "# plt.plot(t,y);\n",
    "\n",
    "\n"
   ]
  },
  {
   "cell_type": "code",
   "execution_count": null,
   "metadata": {},
   "outputs": [],
   "source": [
    "# stage_range = range(0,2500,pulse_interval)\n",
    "# print(stage_range)\n"
   ]
  },
  {
   "cell_type": "code",
   "execution_count": null,
   "metadata": {},
   "outputs": [],
   "source": [
    "\n",
    "# pulse_interval = 250 #250 1mm\n",
    "# stage_range = range(0,2500,pulse_interval)\n",
    "\n",
    "\n",
    "# data = np.zeros((11,11))\n",
    "\n",
    "# for x, x_puls in enumerate(stage_range):\n",
    "#     for y, y_puls in enumerate(stage_range):\n",
    "\n",
    "#         stage.move_plus(3,pulse_interval)#高さ\n",
    "        \n",
    "#         time.sleep(2)#止める時間（アベレージ時間などを考慮）\n",
    "        \n",
    "#         [times, volts]=scope.fetch(1)\n",
    "# #         [time, volts] = func.get_cutting_wave(time, volts, 0.05)\n",
    "        \n",
    "#         data[x][y] = max(volts)\n",
    "#         print(x_puls, y_puls, max(volts))\n",
    "# #         print(len(times), len(volts))\n",
    "# #         plt.plot(times, volts) # データ\n",
    "        \n",
    "#     stage.move_plus(2,pulse_interval)#奥行\n",
    "#     time.sleep(0.5)\n",
    "#     stage.move_minus(3,2500)#高さ"
   ]
  },
  {
   "cell_type": "code",
   "execution_count": null,
   "metadata": {},
   "outputs": [],
   "source": [
    "# # data\n",
    "# data.max()\n",
    "\n",
    "# # 1250 2000 0.972234375\n",
    "# stage.to_zero()\n",
    "# # time.sleep(1)\n",
    "# # stage.move_minus(2,1250)\n",
    "# time.sleep(1)\n",
    "# stage.move_plus(3,750)\n",
    "\n",
    "    "
   ]
  },
  {
   "cell_type": "code",
   "execution_count": null,
   "metadata": {},
   "outputs": [],
   "source": [
    "stage.to_zero()\n",
    "time.sleep(1)\n",
    "stage.move_minus(3,250)\n",
    "time.sleep(1)\n",
    "stage.move_plus(2,250)"
   ]
  },
  {
   "cell_type": "code",
   "execution_count": null,
   "metadata": {},
   "outputs": [],
   "source": [
    "for i in range(1,100):\n",
    "    print(i)\n",
    "    serch(25)"
   ]
  },
  {
   "cell_type": "code",
   "execution_count": null,
   "metadata": {},
   "outputs": [],
   "source": [
    "\n",
    "[times, volts]=scope.fetch(1)\n",
    "a = np.array([times,volts])\n",
    "np.savetxt('pvdf_10wave.csv', a, delimiter=',')"
   ]
  },
  {
   "cell_type": "code",
   "execution_count": null,
   "metadata": {},
   "outputs": [],
   "source": []
  }
 ],
 "metadata": {
  "kernelspec": {
   "display_name": "Python 3.9.7 64-bit",
   "language": "python",
   "name": "python3"
  },
  "language_info": {
   "codemirror_mode": {
    "name": "ipython",
    "version": 3
   },
   "file_extension": ".py",
   "mimetype": "text/x-python",
   "name": "python",
   "nbconvert_exporter": "python",
   "pygments_lexer": "ipython3",
   "version": "3.9.7"
  },
  "vscode": {
   "interpreter": {
    "hash": "aee8b7b246df8f9039afb4144a1f6fd8d2ca17a180786b69acc140d282b71a49"
   }
  }
 },
 "nbformat": 4,
 "nbformat_minor": 2
}
