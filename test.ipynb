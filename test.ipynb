{
 "cells": [
  {
   "cell_type": "code",
   "execution_count": 1,
   "metadata": {},
   "outputs": [],
   "source": [
    "import pyvisa\n",
    "import time\n",
    "import numpy as np\n",
    "import pandas as pd\n",
    "import matplotlib.pyplot as plt\n",
    "import device\n",
    "import func\n"
   ]
  },
  {
   "cell_type": "code",
   "execution_count": 3,
   "metadata": {},
   "outputs": [
    {
     "name": "stdout",
     "output_type": "stream",
     "text": [
      "('TCPIP0::TEKSCOPE-536165::inst0::INSTR', 'TCPIP0::172.20.147.149::inst0::INSTR', 'GPIB0::8::INSTR', 'GPIB0::10::INSTR')\n"
     ]
    }
   ],
   "source": [
    "rm = pyvisa.ResourceManager()\n",
    "visa_list = rm.list_resources()\n",
    "print(visa_list)"
   ]
  },
  {
   "cell_type": "code",
   "execution_count": 29,
   "metadata": {},
   "outputs": [
    {
     "ename": "IndexError",
     "evalue": "tuple index out of range",
     "output_type": "error",
     "traceback": [
      "\u001b[1;31m---------------------------------------------------------------------------\u001b[0m",
      "\u001b[1;31mIndexError\u001b[0m                                Traceback (most recent call last)",
      "\u001b[1;32m<ipython-input-29-508b1db0a52c>\u001b[0m in \u001b[0;36m<module>\u001b[1;34m\u001b[0m\n\u001b[0;32m      1\u001b[0m \u001b[1;31m# 機器接続\u001b[0m\u001b[1;33m\u001b[0m\u001b[1;33m\u001b[0m\u001b[1;33m\u001b[0m\u001b[0m\n\u001b[1;32m----> 2\u001b[1;33m \u001b[0mstage\u001b[0m \u001b[1;33m=\u001b[0m \u001b[0mdevice\u001b[0m\u001b[1;33m.\u001b[0m\u001b[0mStageController\u001b[0m\u001b[1;33m(\u001b[0m\u001b[0mvisa_list\u001b[0m\u001b[1;33m[\u001b[0m\u001b[1;36m2\u001b[0m\u001b[1;33m]\u001b[0m\u001b[1;33m)\u001b[0m\u001b[1;31m#三軸の接続先設定\u001b[0m\u001b[1;33m\u001b[0m\u001b[1;33m\u001b[0m\u001b[0m\n\u001b[0m\u001b[0;32m      3\u001b[0m \u001b[0mscope\u001b[0m \u001b[1;33m=\u001b[0m \u001b[0mdevice\u001b[0m\u001b[1;33m.\u001b[0m\u001b[0mOscilloscope\u001b[0m\u001b[1;33m(\u001b[0m\u001b[0mvisa_list\u001b[0m\u001b[1;33m[\u001b[0m\u001b[1;36m1\u001b[0m\u001b[1;33m]\u001b[0m\u001b[1;33m)\u001b[0m\u001b[1;31m#オシロスコープの接続先指定\u001b[0m\u001b[1;33m\u001b[0m\u001b[1;33m\u001b[0m\u001b[0m\n\u001b[0;32m      4\u001b[0m \u001b[1;33m\u001b[0m\u001b[0m\n",
      "\u001b[1;31mIndexError\u001b[0m: tuple index out of range"
     ]
    }
   ],
   "source": [
    "# 機器接続\n",
    "stage = device.StageController(visa_list[2])#三軸の接続先設定\n",
    "scope = device.Oscilloscope(visa_list[1])#オシロスコープの接続先指定\n",
    "\n"
   ]
  },
  {
   "cell_type": "code",
   "execution_count": 4,
   "metadata": {},
   "outputs": [],
   "source": [
    "stage.move_one(2,-2000)#2500パルス１㎝\n",
    "stage.move_one(2,2000)#2500パルス１㎝"
   ]
  },
  {
   "cell_type": "code",
   "execution_count": 5,
   "metadata": {},
   "outputs": [
    {
     "data": {
      "text/plain": [
       "428"
      ]
     },
     "execution_count": 5,
     "metadata": {},
     "output_type": "execute_result"
    },
    {
     "data": {
      "image/png": "[encoded data removed]",
      "text/plain": [
       "<Figure size 432x288 with 1 Axes>"
      ]
     },
     "metadata": {
      "needs_background": "light"
     },
     "output_type": "display_data"
    }
   ],
   "source": [
    "# test\n",
    "scope = device.Oscilloscope(visa_list[1])#オシロスコープの接続先指定\n",
    "[times, volts]=scope.fetch(1)\n",
    "[times, volts] = func.get_cutting_wave(times, volts, 0.1)\n",
    "\n",
    "plt.plot(times,volts);\n",
    "\n",
    "len(volts)\n"
   ]
  },
  {
   "cell_type": "code",
   "execution_count": 8,
   "metadata": {},
   "outputs": [
    {
     "name": "stdout",
     "output_type": "stream",
     "text": [
      "         0,         1,         0,         0,K,K,R\n",
      "\n",
      "         0,         0,         0,         0,K,K,R\n",
      "\n"
     ]
    }
   ],
   "source": [
    "\n",
    "func.serch(1,stage,scope)"
   ]
  },
  {
   "cell_type": "code",
   "execution_count": 2,
   "metadata": {},
   "outputs": [
    {
     "name": "stdout",
     "output_type": "stream",
     "text": [
      "('ASRL1::INSTR', 'ASRL3::INSTR')\n"
     ]
    },
    {
     "ename": "IndexError",
     "evalue": "tuple index out of range",
     "output_type": "error",
     "traceback": [
      "\u001b[1;31m---------------------------------------------------------------------------\u001b[0m",
      "\u001b[1;31mIndexError\u001b[0m                                Traceback (most recent call last)",
      "\u001b[1;32mセル7 を c:\\Users\\suzuyama\\OneDrive - 同志社大学\\デスクトップ\\pyvisa\\test.ipynb\u001b[0m in \u001b[0;36m<cell line: 15>\u001b[1;34m()\u001b[0m\n\u001b[0;32m     <a href='vscode-notebook-cell:/c%3A/Users/suzuyama/OneDrive%20-%20%E5%90%8C%E5%BF%97%E7%A4%BE%E5%A4%A7%E5%AD%A6/%E3%83%87%E3%82%B9%E3%82%AF%E3%83%88%E3%83%83%E3%83%97/pyvisa/test.ipynb#ch0000006?line=11'>12</a>\u001b[0m \u001b[39mprint\u001b[39m(visa_list)\n\u001b[0;32m     <a href='vscode-notebook-cell:/c%3A/Users/suzuyama/OneDrive%20-%20%E5%90%8C%E5%BF%97%E7%A4%BE%E5%A4%A7%E5%AD%A6/%E3%83%87%E3%82%B9%E3%82%AF%E3%83%88%E3%83%83%E3%83%97/pyvisa/test.ipynb#ch0000006?line=13'>14</a>\u001b[0m \u001b[39m# 機器接続\u001b[39;00m\n\u001b[1;32m---> <a href='vscode-notebook-cell:/c%3A/Users/suzuyama/OneDrive%20-%20%E5%90%8C%E5%BF%97%E7%A4%BE%E5%A4%A7%E5%AD%A6/%E3%83%87%E3%82%B9%E3%82%AF%E3%83%88%E3%83%83%E3%83%97/pyvisa/test.ipynb#ch0000006?line=14'>15</a>\u001b[0m stage \u001b[39m=\u001b[39m device\u001b[39m.\u001b[39mStageController(visa_list[\u001b[39m2\u001b[39;49m])\u001b[39m#三軸の接続先設定\u001b[39;00m\n\u001b[0;32m     <a href='vscode-notebook-cell:/c%3A/Users/suzuyama/OneDrive%20-%20%E5%90%8C%E5%BF%97%E7%A4%BE%E5%A4%A7%E5%AD%A6/%E3%83%87%E3%82%B9%E3%82%AF%E3%83%88%E3%83%83%E3%83%97/pyvisa/test.ipynb#ch0000006?line=15'>16</a>\u001b[0m scope \u001b[39m=\u001b[39m device\u001b[39m.\u001b[39mOscilloscope(visa_list[\u001b[39m1\u001b[39m])\u001b[39m#オシロスコープの接続先指定\u001b[39;00m\n\u001b[0;32m     <a href='vscode-notebook-cell:/c%3A/Users/suzuyama/OneDrive%20-%20%E5%90%8C%E5%BF%97%E7%A4%BE%E5%A4%A7%E5%AD%A6/%E3%83%87%E3%82%B9%E3%82%AF%E3%83%88%E3%83%83%E3%83%97/pyvisa/test.ipynb#ch0000006?line=18'>19</a>\u001b[0m \u001b[39mdef\u001b[39;00m \u001b[39mserch\u001b[39m(plus_interval, stage, scope):\n",
      "\u001b[1;31mIndexError\u001b[0m: tuple index out of range"
     ]
    }
   ],
   "source": [
    "import pyvisa\n",
    "import time\n",
    "import numpy as np\n",
    "import pandas as pd\n",
    "import matplotlib.pyplot as plt\n",
    "import device\n",
    "import func\n",
    "\n",
    "\n",
    "rm = pyvisa.ResourceManager()\n",
    "visa_list = rm.list_resources()\n",
    "print(visa_list)\n",
    "\n",
    "# 機器接続\n",
    "stage = device.StageController(visa_list[2])#三軸の接続先設定\n",
    "scope = device.Oscilloscope(visa_list[1])#オシロスコープの接続先指定\n",
    "\n",
    "\n",
    "def serch(plus_interval, stage, scope):\n",
    "    position = []\n",
    "    position.append(stage.status())\n",
    "    while True:\n",
    "        center = scope.get_max(1)\n",
    "\n",
    "        stage.move_to_rel(0, plus_interval, 0, 0)\n",
    "        time.sleep(5)\n",
    "        right = scope.get_max(1)\n",
    "\n",
    "        stage.move_to_rel(0, -2*plus_interval, 0, 0)\n",
    "        time.sleep(5)\n",
    "        left = scope.get_max(1)\n",
    "\n",
    "        stage.move_to_rel(0, plus_interval, plus_interval, 0)\n",
    "        time.sleep(5)\n",
    "        up = scope.get_max(1)\n",
    "\n",
    "        stage.move_to_rel(0, 0, -2*plus_interval, 0)\n",
    "        time.sleep(5)\n",
    "        down = scope.get_max(1)\n",
    "\n",
    "        stage.move_to_rel(0, 0, plus_interval, 0)\n",
    "\n",
    "        if right > left and right > center:\n",
    "            stage.move_one(2, plus_interval)\n",
    "\n",
    "        if left > right and left > center:\n",
    "            stage.move_one(2, -1*plus_interval)\n",
    "        time.sleep(1)\n",
    "\n",
    "        if up > down and up > center:\n",
    "            stage.move_one(3, plus_interval)\n",
    "\n",
    "        if down > up and down > center:\n",
    "            stage.move_one(3, -1*plus_interval)\n",
    "\n",
    "        latest_position = stage.status()\n",
    "        print(center,left,right,up,down)\n",
    "        print(latest_position)\n",
    "\n",
    "        if latest_position in position:\n",
    "            break\n",
    "\n",
    "        position.append(latest_position)\n",
    "\n",
    "\n",
    "\n",
    "for i in range(4):\n",
    "    serch(1000/(10**i),stage,scope)\n",
    "    print(1000/(10**i))"
   ]
  },
  {
   "cell_type": "code",
   "execution_count": null,
   "metadata": {},
   "outputs": [],
   "source": [
    "\n",
    "# pulse_interval = 250 #250 1mm\n",
    "# stage_range = range(0,2500,pulse_interval)\n",
    "\n",
    "\n",
    "# data = np.zeros((11,11))\n",
    "\n",
    "# for x, x_puls in enumerate(stage_range):\n",
    "#     for y, y_puls in enumerate(stage_range):\n",
    "\n",
    "#         stage.move_plus(3,pulse_interval)#高さ\n",
    "        \n",
    "#         time.sleep(2)#止める時間（アベレージ時間などを考慮）\n",
    "        \n",
    "#         [times, volts]=scope.fetch(1)\n",
    "# #         [time, volts] = func.get_cutting_wave(time, volts, 0.05)\n",
    "        \n",
    "#         data[x][y] = max(volts)\n",
    "#         print(x_puls, y_puls, max(volts))\n",
    "# #         print(len(times), len(volts))\n",
    "# #         plt.plot(times, volts) # データ\n",
    "        \n",
    "#     stage.move_plus(2,pulse_interval)#奥行\n",
    "#     time.sleep(0.5)\n",
    "#     stage.move_minus(3,2500)#高さ"
   ]
  },
  {
   "cell_type": "code",
   "execution_count": null,
   "metadata": {},
   "outputs": [],
   "source": [
    "# # data\n",
    "# data.max()\n",
    "\n",
    "# # 1250 2000 0.972234375\n",
    "# stage.to_zero()\n",
    "# # time.sleep(1)\n",
    "# # stage.move_minus(2,1250)\n",
    "# time.sleep(1)\n",
    "# stage.move_plus(3,750)\n",
    "\n",
    "    "
   ]
  },
  {
   "cell_type": "code",
   "execution_count": null,
   "metadata": {},
   "outputs": [],
   "source": [
    "stage.to_zero()\n",
    "time.sleep(1)\n",
    "stage.move_minus(3,250)\n",
    "time.sleep(1)\n",
    "stage.move_plus(2,250)"
   ]
  },
  {
   "cell_type": "code",
   "execution_count": null,
   "metadata": {},
   "outputs": [],
   "source": [
    "# f = 2.0e6   # 周波数 Hz\n",
    "# # dt=8e-9\n",
    "\n",
    "# sf = 10000*f\n",
    "# # sf = 44100 #サンプリング周波数\n",
    "\n",
    "# t = np.arange(0, 1/f, 1/sf) #サンプリング点の生成\n",
    "# # print(1/fs,t)\n",
    "# y = np.sin(2*np.pi*f*t) # 正弦波の生成\n",
    "\n",
    "# plt.plot(t,y);\n",
    "\n"
   ]
  },
  {
   "cell_type": "code",
   "execution_count": 10,
   "metadata": {},
   "outputs": [],
   "source": [
    "\n",
    "[times, volts]=scope.fetch(1)\n",
    "a = np.array([times,volts])\n",
    "np.savetxt('pvdf_10wave.csv', a.T, delimiter=',')"
   ]
  },
  {
   "cell_type": "code",
   "execution_count": null,
   "metadata": {},
   "outputs": [],
   "source": []
  }
 ],
 "metadata": {
  "kernelspec": {
   "display_name": "Python 3.10.4 64-bit",
   "language": "python",
   "name": "python3"
  },
  "language_info": {
   "codemirror_mode": {
    "name": "ipython",
    "version": 3
   },
   "file_extension": ".py",
   "mimetype": "text/x-python",
   "name": "python",
   "nbconvert_exporter": "python",
   "pygments_lexer": "ipython3",
   "version": "3.10.4"
  },
  "vscode": {
   "interpreter": {
    "hash": "cbe8781eafc332e4346511ffb57e640714d8412889118e3660a76ad5ee6826eb"
   }
  }
 },
 "nbformat": 4,
 "nbformat_minor": 2
}
