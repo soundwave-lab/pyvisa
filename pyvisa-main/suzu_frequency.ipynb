{
 "cells": [
  {
   "cell_type": "code",
   "execution_count": null,
   "metadata": {},
   "outputs": [],
   "source": [
    "import pyvisa\n",
    "import time\n",
    "import numpy as np\n",
    "import pandas as pd\n",
    "\n",
    "from device import Scope\n",
    "from device import Stage"
   ]
  },
  {
   "cell_type": "code",
   "execution_count": null,
   "metadata": {},
   "outputs": [],
   "source": [
    "rm = pyvisa.ResourceManager()\n",
    "visa_list = rm.list_resources()\n",
    "visa_list"
   ]
  },
  {
   "cell_type": "code",
   "execution_count": null,
   "metadata": {},
   "outputs": [],
   "source": [
    "\n",
    "# stage = stage.Autostage(visa_list[0])#三軸の接続先設定\n",
    "# scope = tek7k.Scope(visa_list[1])#オシロスコープの接続先指定\n",
    "scope = rm.open_resource(visa_list[1])\n",
    "func = rm.open_resource(visa_list[2])\n",
    "\n"
   ]
  },
  {
   "cell_type": "code",
   "execution_count": null,
   "metadata": {},
   "outputs": [],
   "source": [
    "#初期条件\n",
    "scope.timeout = 30000 # timeout の設定# 30 秒\n",
    "scope.average(10000)#averaging回数指定"
   ]
  },
  {
   "cell_type": "code",
   "execution_count": null,
   "metadata": {},
   "outputs": [],
   "source": [
    "# Setting source as Channel 1\n",
    "scope.write('DATA:SOU CH1') \n",
    "scope.write('DATA:WIDTH 2') \n",
    "scope.write('DATA:ENC SRIBINARY')\n",
    "\n",
    "scope.write('DATa:STARt 1')\n",
    "scope.write('DATa:STOP 5000')\n",
    "ymult = float(scope.query('WFMOUTPRE:YMULT?')) # y-axis least \n",
    "yzero = float(scope.query('WFMOUTPRE:YZERO?')) # y-axis zero error\n",
    "yoff = float(scope.query('WFMOUTPRE:YOFF?'))   # y-axis offset\n",
    "xincr = float(scope.query('WFMOUTPRE:XINCR?')) # x-axis least count\n",
    "xoff = float(scope.query('WFMP:PT_OFF?'))   # x-axis offset\n",
    "\n",
    "df = pd.DataFrame()"
   ]
  },
  {
   "cell_type": "code",
   "execution_count": null,
   "metadata": {},
   "outputs": [],
   "source": [
    "# FREQuency {<frequency>|MINimum|MAXimum}\n",
    "for f in range(500,2500,25): #500KHz 2500KHz\n",
    "    func.write('FREQuency '+ f*1000) \n",
    "    time.sleep(5)#5秒止める\n",
    "\n",
    "    ADC_wave = scope.query_binary_values('CURVe?',datatype = 'h',is_big_endian=False, container=np.array)\n",
    "    Volts = (ADC_wave - yoff) * ymult + yzero\n",
    "    df[f] = Volts\n",
    "    # plt.plot(Volts) # データ\n",
    "\n",
    "df[\"time\"] = time\n",
    "time = np.arange(-1*xincr*xoff,-1*xincr*xoff+len(Volts)*xincr,xincr)"
   ]
  },
  {
   "cell_type": "code",
   "execution_count": null,
   "metadata": {},
   "outputs": [],
   "source": [
    "df\n",
    "df.to_csv(\"f.csv\")"
   ]
  },
  {
   "cell_type": "code",
   "execution_count": null,
   "metadata": {},
   "outputs": [],
   "source": [
    "\n",
    "\n"
   ]
  }
 ],
 "metadata": {
  "kernelspec": {
   "display_name": "Python 3.9.13 64-bit",
   "language": "python",
   "name": "python3"
  },
  "language_info": {
   "name": "python",
   "version": "3.9.13"
  },
  "orig_nbformat": 4,
  "vscode": {
   "interpreter": {
    "hash": "b0fa6594d8f4cbf19f97940f81e996739fb7646882a419484c72d19e05852a7e"
   }
  }
 },
 "nbformat": 4,
 "nbformat_minor": 2
}
